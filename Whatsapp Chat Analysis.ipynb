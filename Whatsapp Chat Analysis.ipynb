{
 "cells": [
  {
   "cell_type": "markdown",
   "metadata": {},
   "source": [
    "## File IO"
   ]
  },
  {
   "cell_type": "code",
   "execution_count": null,
   "metadata": {},
   "outputs": [],
   "source": [
    "fileName = 'chat_sehreen.txt'\n",
    "\n",
    "with open(fileName, encoding=\"utf8\") as f:\n",
    "    lineList = f.readlines()"
   ]
  },
  {
   "cell_type": "code",
   "execution_count": null,
   "metadata": {},
   "outputs": [],
   "source": [
    "print('Length:',len(lineList))\n",
    "print(lineList[0]+lineList[len(lineList)-1])"
   ]
  },
  {
   "cell_type": "code",
   "execution_count": null,
   "metadata": {},
   "outputs": [],
   "source": [
    "import re\n",
    "# print(lineList[0].split(','))\n",
    "date = []\n",
    "time = []\n",
    "name = []\n",
    "msg = []\n",
    "i = 0\n",
    "for line in lineList:\n",
    "#     print(line.split(',',1))\n",
    "    try:\n",
    "        d, c = line.split(',',1)\n",
    "        t, c = c.split(' - ',1)\n",
    "        n, m = c.split(': ',1)\n",
    "        \n",
    "        date.append(d)\n",
    "        time.append(t)\n",
    "        name.append(n.replace('Jawad Aziz Khan', 'Yousha'))\n",
    "        msg.append(m.strip('\\n'))\n",
    "    except:\n",
    "        i+=1\n",
    "print(i)    "
   ]
  },
  {
   "cell_type": "code",
   "execution_count": null,
   "metadata": {},
   "outputs": [],
   "source": [
    "import pandas as pd\n",
    "df = pd.DataFrame(list(zip(date, time, name, msg)), columns=['Date', 'Time', 'Name', 'Msg'])"
   ]
  },
  {
   "cell_type": "code",
   "execution_count": null,
   "metadata": {},
   "outputs": [],
   "source": [
    "df.to_csv('chat.csv',index=0)"
   ]
  },
  {
   "cell_type": "code",
   "execution_count": null,
   "metadata": {},
   "outputs": [],
   "source": [
    "df"
   ]
  },
  {
   "cell_type": "markdown",
   "metadata": {},
   "source": [
    "## Date Alignment and Frequency"
   ]
  },
  {
   "cell_type": "code",
   "execution_count": null,
   "metadata": {},
   "outputs": [],
   "source": [
    "import pandas as pd\n",
    "import matplotlib.pyplot as plt\n",
    "\n",
    "df = pd.read_csv('chat.csv')"
   ]
  },
  {
   "cell_type": "code",
   "execution_count": null,
   "metadata": {},
   "outputs": [],
   "source": [
    "df"
   ]
  },
  {
   "cell_type": "code",
   "execution_count": null,
   "metadata": {},
   "outputs": [],
   "source": [
    "# df['Date'] = pd.to_datetime(df['Date'], format='%d/%m/%Y')"
   ]
  },
  {
   "cell_type": "code",
   "execution_count": null,
   "metadata": {},
   "outputs": [],
   "source": [
    "df_you = df.loc[df['Name'] == 'Yousha']\n",
    "df_seh = df.loc[df['Name'] == 'Sehreen']"
   ]
  },
  {
   "cell_type": "code",
   "execution_count": null,
   "metadata": {},
   "outputs": [],
   "source": [
    "freqy = df_you.groupby('Date')['Name'].value_counts().tolist()\n",
    "freqs = df_seh.groupby('Date')['Name'].value_counts().tolist()\n",
    "\n",
    "datey = []\n",
    "dates = []\n",
    "for date in df_you.index:\n",
    "    if date not in datey:\n",
    "        datey.append(date.to_pydatetime())\n",
    "for date in df_seh.index:\n",
    "    if date not in dates:\n",
    "        dates.append(date.to_pydatetime())\n",
    "                 \n",
    "print(len(freqy), len(datey))\n",
    "print(len(freqs), len(dates))"
   ]
  },
  {
   "cell_type": "code",
   "execution_count": null,
   "metadata": {},
   "outputs": [],
   "source": [
    "ploty = [freqy,datey]\n",
    "plots = [freqs,dates]"
   ]
  },
  {
   "cell_type": "markdown",
   "metadata": {},
   "source": [
    "### By Year"
   ]
  },
  {
   "cell_type": "code",
   "execution_count": null,
   "metadata": {},
   "outputs": [],
   "source": [
    "import matplotlib.pyplot as plt\n",
    "import matplotlib.dates as mdates\n",
    "\n",
    "fig = plt.figure(figsize=[16,10])\n",
    "ax = fig.add_subplot(1,1,1)  \n",
    "plt.scatter(plots[1], plots[0], marker='o', label=\"Sehreen Msgs\", color=\"violet\")\n",
    "plt.scatter(ploty[1], ploty[0], marker='X', label=\"Yousha Msgs\", color=\"dodgerblue\")\n",
    "\n",
    "plt.grid()\n",
    "ax.xaxis.set_major_locator(mdates.MonthLocator(interval=4))\n",
    "ax.xaxis.set_minor_locator(mdates.MonthLocator(interval=1))\n",
    "ax.xaxis.set_major_formatter(mdates.DateFormatter('%b \\'%y'))\n",
    "ax.legend()\n",
    "ax.set_ylabel('Total messages / day')\n",
    "ax.set_xlabel('Time in Months')\n",
    "ax.set_title('Whatsapp Message Frequency Scatterplot - Yousha & Sehreen')\n",
    "ax.spines['top'].set_visible(False)\n",
    "ax.spines['right'].set_visible(False)\n",
    "ax.spines['left'].set_visible(False)\n",
    "plt.savefig('images/msgfreq_years.png', dpi=100)"
   ]
  },
  {
   "cell_type": "markdown",
   "metadata": {},
   "source": [
    "### By Days in a Week"
   ]
  },
  {
   "cell_type": "code",
   "execution_count": null,
   "metadata": {},
   "outputs": [],
   "source": [
    "from datetime import datetime\n",
    "weekdays = ['Sunday','Monday','Tuesday','Wednesday','Thursday','Friday','Saturday']\n",
    "days = []\n",
    "# avgdaydate = df.Date.unique()\n",
    "for date in df.Date:\n",
    "    day = datetime.strptime(date, '%d/%m/%Y').strftime(\"%A\")\n",
    "    days.append(day)"
   ]
  },
  {
   "cell_type": "code",
   "execution_count": null,
   "metadata": {},
   "outputs": [],
   "source": [
    "daycounts = []\n",
    "for day in weekdays:\n",
    "    print(day+':',days.count(day))\n",
    "    daycounts.append(days.count(day))\n",
    "print(daycounts)"
   ]
  },
  {
   "cell_type": "code",
   "execution_count": null,
   "metadata": {},
   "outputs": [],
   "source": [
    "import math\n",
    "\n",
    "avgdatecounts = df.groupby('Date')['Date'].value_counts().tolist()\n",
    "avgdates = df['Date'].unique().tolist()\n",
    "\n",
    "for i,d in enumerate(avgdates):\n",
    "    avgdates[i] = datetime.strptime(d, '%d/%m/%Y').strftime(\"%A\")\n",
    "\n",
    "avg = []\n",
    "for i,d in enumerate(weekdays):\n",
    "    a = math.floor(daycounts[i]/avgdates.count(d))\n",
    "    avg.append(a)\n",
    "    print(d,avgdates.count(d),daycounts[i],'  Average:',a)"
   ]
  },
  {
   "cell_type": "code",
   "execution_count": null,
   "metadata": {},
   "outputs": [],
   "source": [
    "import numpy as np\n",
    "y_pos = np.arange(len(weekdays))\n",
    "\n",
    "fig = plt.figure(figsize=[10,8])\n",
    "plt.bar(y_pos, daycounts, align='center', color=['greenyellow', 'steelblue', 'deepskyblue', 'turquoise', 'slategray', 'mediumspringgreen', 'steelblue'])\n",
    "plt.xticks(y_pos, weekdays)\n",
    "plt.ylabel('Total Messages by Day')\n",
    "plt.title('Whatsapp Message Frequency by Weekdays')\n",
    "axes = plt.gca()\n",
    "axes.set_ylim(bottom=35000)\n",
    "axes.spines['top'].set_visible(False)\n",
    "axes.spines['right'].set_visible(False)\n",
    "plt.savefig('images/msgfreq_days.png', dpi=150)\n",
    "plt.show()"
   ]
  },
  {
   "cell_type": "code",
   "execution_count": null,
   "metadata": {},
   "outputs": [],
   "source": [
    "import numpy as np\n",
    "y_pos = np.arange(len(weekdays))\n",
    "\n",
    "fig = plt.figure(figsize=[10,8])\n",
    "plt.bar(y_pos, avg, align='center', color=['mediumspringgreen', 'steelblue', 'deepskyblue', 'turquoise', 'slategray', 'turquoise', 'deepskyblue'])\n",
    "plt.xticks(y_pos, weekdays)\n",
    "plt.ylabel('Average No. of Messages by Day')\n",
    "plt.title('Whatsapp Message Average Frequency by Weekdays')\n",
    "axes = plt.gca()\n",
    "axes.set_ylim(bottom=250)\n",
    "axes.spines['top'].set_visible(False)\n",
    "axes.spines['right'].set_visible(False)\n",
    "plt.savefig('images/msgfreq_daysavg.png', dpi=150)\n",
    "plt.show()"
   ]
  },
  {
   "cell_type": "markdown",
   "metadata": {},
   "source": [
    "### By Time"
   ]
  },
  {
   "cell_type": "code",
   "execution_count": null,
   "metadata": {},
   "outputs": [],
   "source": [
    "from datetime import datetime, timedelta\n",
    "from collections import Counter\n",
    "\n",
    "dftimes = []\n",
    "for row in df.iterrows():\n",
    "    dftimes.append(datetime.strptime(row[1]['Time'].strip(), '%I:%M %p'))\n",
    "    \n",
    "def ceil_dt(dt, delta):\n",
    "    return dt + (datetime.min - dt) % delta\n",
    "\n",
    "for i,d in enumerate(dftimes):\n",
    "    dftimes[i] = ceil_dt(d, timedelta(minutes=30))\n",
    "\n",
    "timescount = Counter(dftimes).keys() # equals to list(set(words))\n",
    "timesfreq = Counter(dftimes).values() # counts the elements' frequency"
   ]
  },
  {
   "cell_type": "code",
   "execution_count": null,
   "metadata": {},
   "outputs": [],
   "source": [
    "tf = []\n",
    "tc = []\n",
    "for i in timesfreq:\n",
    "    tf.append(i)\n",
    "for i in timescount:\n",
    "    tc.append(i)"
   ]
  },
  {
   "cell_type": "code",
   "execution_count": null,
   "metadata": {
    "scrolled": false
   },
   "outputs": [],
   "source": [
    "import datetime\n",
    "import random\n",
    "import matplotlib.pyplot as plt\n",
    "import matplotlib.dates as mdates\n",
    "\n",
    "# make up some data\n",
    "x = tc\n",
    "y = tf\n",
    "\n",
    "# plot\n",
    "fig = plt.figure(figsize=[10,8])\n",
    "new_x, new_y = zip(*sorted(zip(x, y)))\n",
    "plt.plot(new_x,new_y,color='dodgerblue',linewidth=3)\n",
    "\n",
    "plt.ylabel('Average No. of Messages by Time of Day')\n",
    "plt.xlabel('Time Messages Were Sent')\n",
    "plt.title('Whatsapp Message Average Frequency by Time')\n",
    "\n",
    "ax = plt.gca()\n",
    "ax.set_xlim([datetime.datetime(1900, 1, 1,1,0), datetime.datetime(1900, 1, 2,0,0)])\n",
    "myFmt = mdates.DateFormatter('%I:%M %p')\n",
    "ax.xaxis.set_major_formatter(myFmt)\n",
    "ax.xaxis.set_minor_locator(mdates.HourLocator(interval=1))\n",
    "plt.gcf().autofmt_xdate()\n",
    "plt.grid()\n",
    "\n",
    "ax.spines['top'].set_visible(False)\n",
    "ax.spines['right'].set_visible(False)\n",
    "plt.savefig('images/msgfreq_time.png', dpi=150)\n",
    "\n",
    "plt.show()"
   ]
  },
  {
   "cell_type": "markdown",
   "metadata": {},
   "source": [
    "### By Words"
   ]
  },
  {
   "cell_type": "code",
   "execution_count": null,
   "metadata": {
    "scrolled": true
   },
   "outputs": [],
   "source": [
    "df.Name.value_counts()"
   ]
  },
  {
   "cell_type": "code",
   "execution_count": null,
   "metadata": {
    "scrolled": false
   },
   "outputs": [],
   "source": [
    "df.Msg.value_counts().head(20)"
   ]
  },
  {
   "cell_type": "code",
   "execution_count": null,
   "metadata": {},
   "outputs": [],
   "source": [
    "f = open('msg_y.txt','w',encoding='utf8')\n",
    "for msg in df_you.Msg:\n",
    "    f.write(str(msg)+'\\n')\n",
    "f.close()\n",
    "f = open('msg_s.txt','w',encoding='utf8')\n",
    "for msg in df_seh.Msg:\n",
    "    f.write(str(msg)+'\\n')\n",
    "f.close()"
   ]
  },
  {
   "cell_type": "code",
   "execution_count": null,
   "metadata": {},
   "outputs": [],
   "source": [
    "from emoji import UNICODE_EMOJI\n",
    "\n",
    "def is_emoji(s):\n",
    "    return s in UNICODE_EMOJI"
   ]
  },
  {
   "cell_type": "code",
   "execution_count": null,
   "metadata": {},
   "outputs": [],
   "source": [
    "import collections\n",
    "import pandas as pd\n",
    "import matplotlib.pyplot as plt\n",
    "\n",
    "file = open('msg_y.txt', encoding=\"utf8\")\n",
    "a= file.read()\n",
    "\n",
    "stopwords = set(line.strip() for line in open('stopwords.txt'))\n",
    "stopwords = stopwords.union(set(['<media','omitted>','it\\'s','two','said']))\n",
    "wordcount = {}\n",
    "for word in a.lower().split():\n",
    "    word = word.replace(\".\",\"\")\n",
    "    word = word.replace(\",\",\"\")\n",
    "    word = word.replace(\"\\\"\",\"\")\n",
    "    word = word.replace(\"!\",\"\")\n",
    "    if word not in stopwords:\n",
    "        if word not in wordcount:\n",
    "            wordcount[word] = 1\n",
    "        else:\n",
    "            wordcount[word] += 1\n",
    "\n",
    "emocount = {}\n",
    "for e in a:\n",
    "    if is_emoji(e):\n",
    "        if e not in emocount:\n",
    "            emocount[e] = 1\n",
    "        else:\n",
    "            emocount[e] +=1\n",
    "\n",
    "words_y = [[],[]]\n",
    "emo_y = [[],[]]\n",
    "word_counter = collections.Counter(wordcount)\n",
    "for word, count in word_counter.most_common(20):\n",
    "    print(word, \": \", count)\n",
    "    words_y[0].append(word)\n",
    "    words_y[1].append(count)\n",
    "print()\n",
    "emo_counter = collections.Counter(emocount)\n",
    "for e, c in emo_counter.most_common(20):\n",
    "    print(e, \": \", c)\n",
    "    emo_y[0].append(e)\n",
    "    emo_y[1].append(c)\n",
    "    \n",
    "file.close()"
   ]
  },
  {
   "cell_type": "code",
   "execution_count": null,
   "metadata": {},
   "outputs": [],
   "source": [
    "file = open('msg_s.txt', encoding=\"utf8\")\n",
    "a= file.read()\n",
    "\n",
    "stopwords = set(line.strip() for line in open('stopwords.txt'))\n",
    "stopwords = stopwords.union(set(['<media','omitted>','it\\'s','am','said']))\n",
    "wordcount = {}\n",
    "for word in a.lower().split():\n",
    "    word = word.replace(\".\",\"\")\n",
    "    word = word.replace(\",\",\"\")\n",
    "    word = word.replace(\"\\\"\",\"\")\n",
    "    word = word.replace(\"!\",\"\")\n",
    "    if word not in stopwords:\n",
    "        if word not in wordcount:\n",
    "            wordcount[word] = 1\n",
    "        else:\n",
    "            wordcount[word] += 1\n",
    "\n",
    "emocount = {}\n",
    "for e in a:\n",
    "    if is_emoji(e):\n",
    "        if e not in emocount:\n",
    "            emocount[e] = 1\n",
    "        else:\n",
    "            emocount[e] +=1\n",
    "\n",
    "words_s = [[],[]]\n",
    "emo_s = [[],[]]\n",
    "word_counter = collections.Counter(wordcount)\n",
    "for word, count in word_counter.most_common(20):\n",
    "    print(word, \": \", count)\n",
    "    words_s[0].append(word)\n",
    "    words_s[1].append(count)\n",
    "print()\n",
    "emo_counter = collections.Counter(emocount)\n",
    "for e, c in emo_counter.most_common(20):\n",
    "    print(e, \": \", c)\n",
    "    emo_s[0].append(e)\n",
    "    emo_s[1].append(c)\n",
    "    \n",
    "file.close()"
   ]
  },
  {
   "cell_type": "code",
   "execution_count": null,
   "metadata": {
    "scrolled": false
   },
   "outputs": [],
   "source": [
    "import matplotlib.pyplot as plt\n",
    "import numpy as np\n",
    "\n",
    "plt.rcdefaults()\n",
    "fig,(ax,ax2) = plt.subplots(1,2,figsize=(10,8))\n",
    "y_pos = np.arange(20)\n",
    "\n",
    "\n",
    "ax.barh(y_pos, words_y[1], align='center', color='dodgerblue')\n",
    "ax.spines['bottom'].set_visible(False)\n",
    "ax.spines['right'].set_visible(False)\n",
    "ax.spines['top'].set_visible(False)\n",
    "ax.spines['left'].set_visible(False)\n",
    "ax.yaxis.tick_right()\n",
    "ax.set_yticks(y_pos)\n",
    "ax.set_yticklabels(words_y[0])\n",
    "ax.invert_xaxis()\n",
    "ax.get_xaxis().set_visible(False)\n",
    "ax.invert_yaxis() \n",
    "for index, value in enumerate(words_y[1]):\n",
    "    ax.text(value+750, index, ' {:.0f}   '.format(value))\n",
    "# ax.set_title('How fast do you want to go today?')\n",
    "\n",
    "ax2.barh(y_pos, words_s[1], align='center', color='violet')\n",
    "ax2.spines['top'].set_visible(False)\n",
    "ax2.spines['left'].set_visible(False)\n",
    "ax2.spines['bottom'].set_visible(False)\n",
    "ax2.spines['right'].set_visible(False)\n",
    "ax2.set_yticks(y_pos)\n",
    "ax2.set_yticklabels(words_s[0])\n",
    "ax2.invert_yaxis()\n",
    "ax2.get_xaxis().set_visible(False)\n",
    "# ax.set_xlabel('Performance')\n",
    "for index, value in enumerate(words_s[1]):\n",
    "    ax2.text(value, index, ' {:.0f}'.format(value))\n",
    "# ax2.set_title('How fast do you want to go today?')\n",
    "# plt.show()\n",
    "fig.suptitle('Top 20 Most Used Words')\n",
    "fig.tight_layout(pad=3)\n",
    "\n",
    "plt.savefig('images/topwords.png', dpi=150)\n",
    "plt.show()"
   ]
  },
  {
   "cell_type": "code",
   "execution_count": null,
   "metadata": {
    "scrolled": false
   },
   "outputs": [],
   "source": [
    "\n",
    "plt.rcdefaults()\n",
    "fig, ax2 = plt.subplots(figsize=(10,8))\n",
    "y_pos = np.arange(20)\n",
    "\n",
    "ax2.barh(y_pos, emo_s[1], align='center', color='violet')\n",
    "ax2.spines['top'].set_visible(False)\n",
    "ax2.spines['left'].set_visible(False)\n",
    "ax2.spines['bottom'].set_visible(False)\n",
    "ax2.spines['right'].set_visible(False)\n",
    "ax2.set_yticks(y_pos)\n",
    "ax2.set_yticklabels('')\n",
    "ax2.invert_yaxis()\n",
    "ax2.get_xaxis().set_visible(False)\n",
    "# ax.set_xlabel('Performance')\n",
    "for index, value in enumerate(emo_s[1]):\n",
    "    ax2.text(value, index, ' {:.0f}'.format(value))\n",
    "# ax2.set_title('How fast do you want to go today?')\n",
    "# plt.show()\n",
    "fig.suptitle('Top 20 Most Used Emojis - Sehreen')\n",
    "fig.tight_layout(pad=3)\n",
    "\n",
    "plt.savefig('images/topemojis.png', dpi=150)\n",
    "plt.show()"
   ]
  }
 ],
 "metadata": {
  "kernelspec": {
   "display_name": "Python 3",
   "language": "python",
   "name": "python3"
  },
  "language_info": {
   "codemirror_mode": {
    "name": "ipython",
    "version": 3
   },
   "file_extension": ".py",
   "mimetype": "text/x-python",
   "name": "python",
   "nbconvert_exporter": "python",
   "pygments_lexer": "ipython3",
   "version": "3.8.1"
  }
 },
 "nbformat": 4,
 "nbformat_minor": 4
}
